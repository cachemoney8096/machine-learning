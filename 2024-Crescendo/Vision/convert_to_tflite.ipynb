{
 "cells": [
  {
   "cell_type": "code",
   "execution_count": null,
   "metadata": {},
   "outputs": [],
   "source": [
    "import onnxruntime as ort\n",
    "import numpy as np\n",
    "import onnx\n",
    "import torch\n",
    "import tensorflow as tf\n",
    "from tensorflow import keras\n",
    "import cv2\n",
    "import os\n",
    "from IPython import display\n",
    "from IPython.display import Image\n",
    "import ultralytics\n",
    "from ultralytics import YOLO\n",
    "import sklearn.metrics as metrics\n",
    "import matplotlib as plt\n",
    "import numpy as np\n",
    "from IPython.display import clear_output\n",
    "import torch\n",
    "from IPython import display\n",
    "import math\n",
    "import cvzone\n",
    "import torchvision.transforms as transforms\n",
    "from torchvision.datasets import ImageFolder\n",
    "from torch.utils.data import DataLoader\n",
    "import gc\n",
    "import onnxruntime\n",
    "import cv2\n",
    "import numpy as np"
   ]
  },
  {
   "cell_type": "code",
   "execution_count": null,
   "metadata": {},
   "outputs": [],
   "source": [
    "imagePath = \"/Users/rubenhayrapetyan/Desktop/Programming/FRC/NeuralNet/2024/FinalVersion/FRC2024 (2) 2/test/images/0nvmPumfIAvle7bBtteh_jpg.rf.2eb95aabe113e67040b683a26f5ab31a.jpg\""
   ]
  },
  {
   "attachments": {},
   "cell_type": "markdown",
   "metadata": {},
   "source": [
    "FOR PYTORCH TO ONNX"
   ]
  },
  {
   "cell_type": "code",
   "execution_count": null,
   "metadata": {},
   "outputs": [],
   "source": [
    "model = YOLO('/Users/rubenhayrapetyan/Desktop/Programming/FRC/NeuralNet/2024/FinalVersion/PT Model Files/best145.pt')\n",
    "\n",
    "model.export(format='onnx') "
   ]
  },
  {
   "attachments": {},
   "cell_type": "markdown",
   "metadata": {},
   "source": [
    "FOR ONNX TO TENSORFLOW"
   ]
  },
  {
   "cell_type": "code",
   "execution_count": null,
   "metadata": {},
   "outputs": [],
   "source": [
    "onnx_model = onnx.load('/Users/rubenhayrapetyan/Desktop/Programming/FRC/NeuralNet/2024/FinalVersion/PT Model Files/best145.onnx')\n",
    "tf_rep = prepare(onnx_model)  \n",
    "tf_rep.export_graph(\"/Users/rubenhayrapetyan/Desktop/Programming/FRC/NeuralNet/2024/FinalVersion/PT Model Files/\")"
   ]
  },
  {
   "attachments": {},
   "cell_type": "markdown",
   "metadata": {},
   "source": [
    "FOR TENSORFLOW TO TFLITE"
   ]
  },
  {
   "cell_type": "code",
   "execution_count": null,
   "metadata": {},
   "outputs": [],
   "source": [
    "converter = tf.lite.TFLiteConverter.from_saved_model(saved_model_dir)\n",
    "converter.target_spec.supported_ops = [\n",
    "    tf.lite.OpsSet.TFLITE_BUILTINS,  # enable TFLite ops\n",
    "    tf.lite.OpsSet.SELECT_TF_OPS  # enable TF ops\n",
    "]\n",
    "tflite_model = converter.convert()\n",
    "\n",
    "open('/Users/rubenhayrapetyan/desktop/programming/frc/NeuralNet/2024/FinalVersion/TFLITE-Files/best145.tflite', \"wb\").write(tflite_model)"
   ]
  }
 ],
 "metadata": {
  "language_info": {
   "name": "python"
  }
 },
 "nbformat": 4,
 "nbformat_minor": 2
}
