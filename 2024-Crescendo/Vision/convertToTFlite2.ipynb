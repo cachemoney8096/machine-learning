{
 "cells": [
  {
   "cell_type": "code",
   "execution_count": 34,
   "metadata": {},
   "outputs": [],
   "source": [
    "import onnxruntime as ort\n",
    "import numpy as np\n",
    "import onnx\n",
    "import torch\n",
    "import tensorflow as tf\n",
    "from tensorflow import keras\n",
    "import cv2\n",
    "import os\n",
    "from IPython import display\n",
    "from IPython.display import Image\n",
    "import ultralytics\n",
    "from ultralytics import YOLO\n",
    "import sklearn.metrics as metrics\n",
    "import matplotlib as plt\n",
    "import numpy as np\n",
    "from IPython.display import clear_output\n",
    "import torch\n",
    "from IPython import display\n",
    "import math\n",
    "import cvzone\n",
    "import torchvision.transforms as transforms\n",
    "from torchvision.datasets import ImageFolder\n",
    "from torch.utils.data import DataLoader\n",
    "import gc\n",
    "import onnxruntime\n",
    "import cv2\n",
    "import numpy as np"
   ]
  },
  {
   "cell_type": "code",
   "execution_count": 35,
   "metadata": {},
   "outputs": [],
   "source": [
    "imagePath = \"/Users/rubenhayrapetyan/Desktop/Programming/FRC/NeuralNet/2024/FinalVersion/FRC2024 (2) 2/test/images/0nvmPumfIAvle7bBtteh_jpg.rf.2eb95aabe113e67040b683a26f5ab31a.jpg\"\n"
   ]
  },
  {
   "attachments": {},
   "cell_type": "markdown",
   "metadata": {},
   "source": [
    "FOR PYTORCH TO ONNX"
   ]
  },
  {
   "cell_type": "code",
   "execution_count": 36,
   "metadata": {},
   "outputs": [
    {
     "name": "stdout",
     "output_type": "stream",
     "text": [
      "Ultralytics YOLOv8.1.3 🚀 Python-3.11.4 torch-2.1.2 CPU (Intel Core(TM) i5-8257U 1.40GHz)\n",
      "Model summary (fused): 168 layers, 3006038 parameters, 0 gradients, 8.1 GFLOPs\n",
      "\n",
      "\u001b[34m\u001b[1mPyTorch:\u001b[0m starting from '/Users/rubenhayrapetyan/Desktop/Programming/FRC/NeuralNet/2024/FinalVersion/PT Model Files/best145.pt' with input shape (1, 3, 416, 416) BCHW and output shape(s) (1, 6, 3549) (5.9 MB)\n",
      "\n",
      "\u001b[34m\u001b[1mONNX:\u001b[0m starting export with onnx 1.15.0 opset 17...\n",
      "\u001b[34m\u001b[1mONNX:\u001b[0m export success ✅ 5.3s, saved as '/Users/rubenhayrapetyan/Desktop/Programming/FRC/NeuralNet/2024/FinalVersion/PT Model Files/best145.onnx' (11.6 MB)\n",
      "\n",
      "Export complete (8.7s)\n",
      "Results saved to \u001b[1m/Users/rubenhayrapetyan/Desktop/Programming/FRC/NeuralNet/2024/FinalVersion/PT Model Files\u001b[0m\n",
      "Predict:         yolo predict task=detect model=/Users/rubenhayrapetyan/Desktop/Programming/FRC/NeuralNet/2024/FinalVersion/PT Model Files/best145.onnx imgsz=416  \n",
      "Validate:        yolo val task=detect model=/Users/rubenhayrapetyan/Desktop/Programming/FRC/NeuralNet/2024/FinalVersion/PT Model Files/best145.onnx imgsz=416 data=C:/Users/Student Robotic/Desktop/ruben/Programming/FRC/NeuralNet/2024/GoogleColab/FRC2024/data.yaml  \n",
      "Visualize:       https://netron.app\n"
     ]
    },
    {
     "data": {
      "text/plain": [
       "'/Users/rubenhayrapetyan/Desktop/Programming/FRC/NeuralNet/2024/FinalVersion/PT Model Files/best145.onnx'"
      ]
     },
     "execution_count": 36,
     "metadata": {},
     "output_type": "execute_result"
    }
   ],
   "source": [
    "model = YOLO('/Users/rubenhayrapetyan/Desktop/Programming/FRC/NeuralNet/2024/FinalVersion/PT Model Files/best145.pt')\n",
    "\n",
    "model.export(format='onnx') "
   ]
  },
  {
   "attachments": {},
   "cell_type": "markdown",
   "metadata": {},
   "source": [
    "FOR ONNX TO TENSORFLOW"
   ]
  },
  {
   "cell_type": "code",
   "execution_count": 37,
   "metadata": {},
   "outputs": [
    {
     "name": "stderr",
     "output_type": "stream",
     "text": [
      "INFO:absl:Function `__call__` contains input name(s) x, y with unsupported characters which will be renamed to transpose_193_x, add_44_y in the SavedModel.\n",
      "INFO:absl:Found untraced functions such as gen_tensor_dict while saving (showing 1 of 1). These functions will not be directly callable after loading.\n"
     ]
    },
    {
     "name": "stdout",
     "output_type": "stream",
     "text": [
      "INFO:tensorflow:Assets written to: /Users/rubenhayrapetyan/Desktop/Programming/FRC/NeuralNet/2024/FinalVersion/PT Model Files/assets\n"
     ]
    },
    {
     "name": "stderr",
     "output_type": "stream",
     "text": [
      "INFO:tensorflow:Assets written to: /Users/rubenhayrapetyan/Desktop/Programming/FRC/NeuralNet/2024/FinalVersion/PT Model Files/assets\n",
      "INFO:absl:Writing fingerprint to /Users/rubenhayrapetyan/Desktop/Programming/FRC/NeuralNet/2024/FinalVersion/PT Model Files/fingerprint.pb\n"
     ]
    }
   ],
   "source": [
    "onnx_model = onnx.load('/Users/rubenhayrapetyan/Desktop/Programming/FRC/NeuralNet/2024/FinalVersion/PT Model Files/best145.onnx')\n",
    "tf_rep = prepare(onnx_model)  \n",
    "tf_rep.export_graph(\"/Users/rubenhayrapetyan/Desktop/Programming/FRC/NeuralNet/2024/FinalVersion/PT Model Files/\")"
   ]
  },
  {
   "attachments": {},
   "cell_type": "markdown",
   "metadata": {},
   "source": [
    "FOR TENSORFLOW TO TFLITE"
   ]
  },
  {
   "cell_type": "code",
   "execution_count": 38,
   "metadata": {},
   "outputs": [
    {
     "name": "stderr",
     "output_type": "stream",
     "text": [
      "2024-03-16 08:17:11.006732: I tensorflow/cc/saved_model/reader.cc:83] Reading SavedModel from: /Users/rubenhayrapetyan/Desktop/Programming/FRC/NeuralNet/2024/FinalVersion/PT Model Files\n",
      "2024-03-16 08:17:11.034622: I tensorflow/cc/saved_model/reader.cc:51] Reading meta graph with tags { serve }\n",
      "2024-03-16 08:17:11.034655: I tensorflow/cc/saved_model/reader.cc:146] Reading SavedModel debug info (if present) from: /Users/rubenhayrapetyan/Desktop/Programming/FRC/NeuralNet/2024/FinalVersion/PT Model Files\n",
      "2024-03-16 08:17:11.193676: I tensorflow/cc/saved_model/loader.cc:233] Restoring SavedModel bundle.\n",
      "2024-03-16 08:17:11.511894: I tensorflow/cc/saved_model/loader.cc:217] Running initialization op on SavedModel bundle at path: /Users/rubenhayrapetyan/Desktop/Programming/FRC/NeuralNet/2024/FinalVersion/PT Model Files\n",
      "2024-03-16 08:17:11.671446: I tensorflow/cc/saved_model/loader.cc:316] SavedModel load for tags { serve }; Status: success: OK. Took 664944 microseconds.\n",
      "Summary on the non-converted ops:\n",
      "---------------------------------\n",
      " * Accepted dialects: tfl, builtin, func\n",
      " * Non-Converted Ops: 159, Total Ops 550, % non-converted = 28.91 %\n",
      " * 150 ARITH ops, 9 TF ops\n",
      "\n",
      "- arith.constant:  150 occurrences  (i64: 5, f32: 131, i32: 14)\n",
      "\n",
      "\n",
      "\n",
      "- tf.SplitV:    9 occurrences  (f32: 9)\n",
      "  (f32: 8)\n",
      "  (f32: 19)\n",
      "  (f32: 64)\n",
      "  (f32: 58)\n",
      "  (f32: 3)\n",
      "  (f32: 59)\n",
      "  (f32: 34)\n",
      "  (f32: 5)\n",
      "  (f32: 2)\n",
      "  (f32: 1)\n",
      "  (f32: 2)\n",
      "  (f32: 2)\n",
      "  (f32: 131)\n"
     ]
    },
    {
     "data": {
      "text/plain": [
       "12138356"
      ]
     },
     "execution_count": 38,
     "metadata": {},
     "output_type": "execute_result"
    }
   ],
   "source": [
    "converter = tf.lite.TFLiteConverter.from_saved_model(saved_model_dir)\n",
    "converter.target_spec.supported_ops = [\n",
    "    tf.lite.OpsSet.TFLITE_BUILTINS,  # enable TFLite ops\n",
    "    tf.lite.OpsSet.SELECT_TF_OPS  # enable TF ops\n",
    "]\n",
    "tflite_model = converter.convert()\n",
    "\n",
    "open('/Users/rubenhayrapetyan/desktop/programming/frc/NeuralNet/2024/FinalVersion/TFLITE-Files/best145.tflite', \"wb\").write(tflite_model)"
   ]
  }
 ],
 "metadata": {
  "kernelspec": {
   "display_name": "Python 3",
   "language": "python",
   "name": "python3"
  },
  "language_info": {
   "codemirror_mode": {
    "name": "ipython",
    "version": 3
   },
   "file_extension": ".py",
   "mimetype": "text/x-python",
   "name": "python",
   "nbconvert_exporter": "python",
   "pygments_lexer": "ipython3",
   "version": "3.11.4"
  },
  "orig_nbformat": 4
 },
 "nbformat": 4,
 "nbformat_minor": 2
}
