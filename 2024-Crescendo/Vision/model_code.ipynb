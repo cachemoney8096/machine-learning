{
 "cells": [
  {
   "cell_type": "code",
   "execution_count": null,
   "metadata": {},
   "outputs": [],
   "source": [
    "!nvidia-smi"
   ]
  },
  {
   "cell_type": "code",
   "execution_count": 2,
   "metadata": {},
   "outputs": [],
   "source": [
    "import os\n",
    "from IPython import display\n",
    "from IPython.display import Image\n",
    "import ultralytics\n",
    "from ultralytics import YOLO\n",
    "import sklearn.metrics as metrics\n",
    "import matplotlib as plt\n",
    "import numpy as np\n",
    "import cv2\n",
    "from IPython.display import clear_output\n",
    "import torch\n",
    "from IPython import display\n",
    "import math\n",
    "import cvzone\n",
    "import torchvision.transforms as transforms\n",
    "from torchvision.datasets import ImageFolder\n",
    "from torch.utils.data import DataLoader\n",
    "import gc"
   ]
  },
  {
   "cell_type": "code",
   "execution_count": null,
   "metadata": {},
   "outputs": [],
   "source": [
    "print(torch.version.cuda)\n",
    "print(torch.cuda.is_available())\n",
    "HOME = os.getcwd()\n",
    "print(HOME)"
   ]
  },
  {
   "cell_type": "code",
   "execution_count": null,
   "metadata": {},
   "outputs": [],
   "source": [
    "model = YOLO(\"yolov8n.pt\")\n",
    "model = YOLO(\"/Users/Student Robotic/Desktop/ruben/Programming/FRC/NeuralNet/2024/GoogleColab/runs/detect/train149/weights/best.pt\")"
   ]
  },
  {
   "cell_type": "code",
   "execution_count": null,
   "metadata": {},
   "outputs": [],
   "source": [
    "%pip install ultralytics==8.0.0196\n",
    "display.clear_output()\n",
    "ultralytics.checks()"
   ]
  },
  {
   "cell_type": "code",
   "execution_count": null,
   "metadata": {},
   "outputs": [],
   "source": [
    "gc.collect()"
   ]
  },
  {
   "cell_type": "code",
   "execution_count": null,
   "metadata": {},
   "outputs": [],
   "source": [
    "model.train(data=\"C:/Users/Student Robotic/Desktop/ruben/Programming/FRC/NeuralNet/2024/GoogleColab/FRC2024/data.yaml\", \n",
    "            epochs=500, imgsz=416, plots=True, save_period=2, cache=True, fraction=1, amp=False, dropout=0.005, weight_decay=0.000005, \n",
    "            augment=False, optimizer='Adam', momentum=0.5, verbose=True, patience=100)"
   ]
  },
  {
   "cell_type": "code",
   "execution_count": null,
   "metadata": {},
   "outputs": [],
   "source": [
    "path = 'C:/Users/Student Robotic/Desktop/ruben/Programming/FRC/NeuralNet/2024/GoogleColab/runs/detect/train153/'\n",
    "Image(filename= path+'confusion_matrix.png', width=2100)\n",
    "Image(filename=path+'results.png', width=2100)\n",
    "Image(filename= path+'PR_curve.png', width=2100)\n",
    "Image(filename= path+'val_batch0_pred.jpg', width=2100)"
   ]
  },
  {
   "cell_type": "code",
   "execution_count": null,
   "metadata": {},
   "outputs": [],
   "source": [
    "\n",
    "\n"
   ]
  }
 ],
 "metadata": {
  "kernelspec": {
   "display_name": "Python 3",
   "language": "python",
   "name": "python3"
  },
  "language_info": {
   "codemirror_mode": {
    "name": "ipython",
    "version": 3
   },
   "file_extension": ".py",
   "mimetype": "text/x-python",
   "name": "python",
   "nbconvert_exporter": "python",
   "pygments_lexer": "ipython3",
   "version": "3.11.4"
  },
  "orig_nbformat": 4
 },
 "nbformat": 4,
 "nbformat_minor": 2
}
